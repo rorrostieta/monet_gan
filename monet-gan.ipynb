{
 "cells": [
  {
   "cell_type": "markdown",
   "id": "952f63a0",
   "metadata": {
    "papermill": {
     "duration": 0.002469,
     "end_time": "2022-09-29T22:52:35.461658",
     "exception": false,
     "start_time": "2022-09-29T22:52:35.459189",
     "status": "completed"
    },
    "tags": []
   },
   "source": [
    "# Week 5 GANs Kaggle Competition"
   ]
  },
  {
   "cell_type": "code",
   "execution_count": 1,
   "id": "edeedbdc",
   "metadata": {
    "_cell_guid": "b1076dfc-b9ad-4769-8c92-a6c4dae69d19",
    "_uuid": "8f2839f25d086af736a60e9eeb907d3b93b6e0e5",
    "execution": {
     "iopub.execute_input": "2022-09-29T22:52:35.467418Z",
     "iopub.status.busy": "2022-09-29T22:52:35.466239Z",
     "iopub.status.idle": "2022-09-29T22:52:40.723613Z",
     "shell.execute_reply": "2022-09-29T22:52:40.722426Z"
    },
    "papermill": {
     "duration": 5.263278,
     "end_time": "2022-09-29T22:52:40.726536",
     "exception": false,
     "start_time": "2022-09-29T22:52:35.463258",
     "status": "completed"
    },
    "tags": []
   },
   "outputs": [],
   "source": [
    "import numpy as np\n",
    "import pandas as pd\n",
    "import tensorflow as tf"
   ]
  }
 ],
 "metadata": {
  "kernelspec": {
   "display_name": "Python 3",
   "language": "python",
   "name": "python3"
  },
  "language_info": {
   "codemirror_mode": {
    "name": "ipython",
    "version": 3
   },
   "file_extension": ".py",
   "mimetype": "text/x-python",
   "name": "python",
   "nbconvert_exporter": "python",
   "pygments_lexer": "ipython3",
   "version": "3.7.12"
  },
  "papermill": {
   "default_parameters": {},
   "duration": 18.061015,
   "end_time": "2022-09-29T22:52:43.606653",
   "environment_variables": {},
   "exception": null,
   "input_path": "__notebook__.ipynb",
   "output_path": "__notebook__.ipynb",
   "parameters": {},
   "start_time": "2022-09-29T22:52:25.545638",
   "version": "2.3.4"
  }
 },
 "nbformat": 4,
 "nbformat_minor": 5
}
